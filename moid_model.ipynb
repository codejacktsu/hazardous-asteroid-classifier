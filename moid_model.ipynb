{
  "nbformat": 4,
  "nbformat_minor": 0,
  "metadata": {
    "colab": {
      "name": "moid_model.ipynb",
      "provenance": [],
      "collapsed_sections": []
    },
    "kernelspec": {
      "name": "python3",
      "display_name": "Python 3"
    },
    "language_info": {
      "name": "python"
    }
  },
  "cells": [
    {
      "cell_type": "code",
      "source": [
        "import keras\n",
        "import pandas as pd\n",
        "import numpy as np\n",
        "import tensorflow as tf\n",
        "from tensorflow.keras.utils import plot_model\n",
        "from sklearn.model_selection import train_test_split\n",
        "from sklearn.preprocessing import StandardScaler\n",
        "from sklearn.metrics import accuracy_score\n",
        "from sklearn.metrics import roc_auc_score\n",
        "from sklearn.metrics import mean_squared_error\n",
        "import matplotlib.pyplot as plt"
      ],
      "metadata": {
        "id": "LTpuYOgMvcfS"
      },
      "execution_count": 1,
      "outputs": []
    },
    {
      "cell_type": "code",
      "source": [
        "# utility: modeling\n",
        "\n",
        "# plot history\n",
        "def plot_training_history(history):\n",
        "    loss = history.history['loss']\n",
        "    val_loss = history.history['val_loss']\n",
        "    epochs = range(1,len(loss)+1)\n",
        "\n",
        "    plt.figure()\n",
        "    plt.plot(epochs, loss, 'bo', label='Training loss')\n",
        "    plt.plot(epochs, val_loss, 'b', label='Validation loss')\n",
        "    plt.title('Training and validation loss')\n",
        "    plt.xlabel('epoch')\n",
        "    plt.legend()\n",
        "    plt.show()"
      ],
      "metadata": {
        "id": "Q-5HnZu7Wc9Z"
      },
      "execution_count": 2,
      "outputs": []
    },
    {
      "cell_type": "code",
      "source": [
        "# load data\n",
        "sbdb_df = pd.read_csv(\"sbdb_query_results.csv\", index_col='pdes')\n",
        "sbdb_df.index = sbdb_df.index.map(lambda x: x.replace(\" \", \"\"))\n",
        "sbdb_df['pha'] = sbdb_df['pha'].apply(lambda x: 1 if x == \"Y\" else 0)\n",
        "sbdb_df.dropna(inplace=True)\n",
        "print(sbdb_df.shape)\n",
        "sbdb_df.head()"
      ],
      "metadata": {
        "colab": {
          "base_uri": "https://localhost:8080/",
          "height": 255
        },
        "id": "OXHSCAJ0gzE5",
        "outputId": "259f77af-96bb-4aee-e373-75ab27ded330"
      },
      "execution_count": 3,
      "outputs": [
        {
          "output_type": "stream",
          "name": "stdout",
          "text": [
            "(28858, 9)\n"
          ]
        },
        {
          "output_type": "execute_result",
          "data": {
            "text/plain": [
              "           e      a      i      om       w      ma      H    moid  pha\n",
              "pdes                                                                  \n",
              "433   0.2227  1.458  10.83  304.30  178.90  246.90  10.31  0.1490    0\n",
              "719   0.5470  2.638  11.58  183.86  156.23  278.20  15.57  0.2030    0\n",
              "887   0.5705  2.473   9.39  110.43  350.49   86.61  13.87  0.0815    0\n",
              "1036  0.5331  2.666  26.68  215.52  132.43  140.65   9.22  0.3450    0\n",
              "1221  0.4358  1.919  11.88  171.32   26.64  261.04  17.40  0.1060    0"
            ],
            "text/html": [
              "\n",
              "  <div id=\"df-17ac6cff-68b5-4e1d-9ab8-f9ee2bc7dac3\">\n",
              "    <div class=\"colab-df-container\">\n",
              "      <div>\n",
              "<style scoped>\n",
              "    .dataframe tbody tr th:only-of-type {\n",
              "        vertical-align: middle;\n",
              "    }\n",
              "\n",
              "    .dataframe tbody tr th {\n",
              "        vertical-align: top;\n",
              "    }\n",
              "\n",
              "    .dataframe thead th {\n",
              "        text-align: right;\n",
              "    }\n",
              "</style>\n",
              "<table border=\"1\" class=\"dataframe\">\n",
              "  <thead>\n",
              "    <tr style=\"text-align: right;\">\n",
              "      <th></th>\n",
              "      <th>e</th>\n",
              "      <th>a</th>\n",
              "      <th>i</th>\n",
              "      <th>om</th>\n",
              "      <th>w</th>\n",
              "      <th>ma</th>\n",
              "      <th>H</th>\n",
              "      <th>moid</th>\n",
              "      <th>pha</th>\n",
              "    </tr>\n",
              "    <tr>\n",
              "      <th>pdes</th>\n",
              "      <th></th>\n",
              "      <th></th>\n",
              "      <th></th>\n",
              "      <th></th>\n",
              "      <th></th>\n",
              "      <th></th>\n",
              "      <th></th>\n",
              "      <th></th>\n",
              "      <th></th>\n",
              "    </tr>\n",
              "  </thead>\n",
              "  <tbody>\n",
              "    <tr>\n",
              "      <th>433</th>\n",
              "      <td>0.2227</td>\n",
              "      <td>1.458</td>\n",
              "      <td>10.83</td>\n",
              "      <td>304.30</td>\n",
              "      <td>178.90</td>\n",
              "      <td>246.90</td>\n",
              "      <td>10.31</td>\n",
              "      <td>0.1490</td>\n",
              "      <td>0</td>\n",
              "    </tr>\n",
              "    <tr>\n",
              "      <th>719</th>\n",
              "      <td>0.5470</td>\n",
              "      <td>2.638</td>\n",
              "      <td>11.58</td>\n",
              "      <td>183.86</td>\n",
              "      <td>156.23</td>\n",
              "      <td>278.20</td>\n",
              "      <td>15.57</td>\n",
              "      <td>0.2030</td>\n",
              "      <td>0</td>\n",
              "    </tr>\n",
              "    <tr>\n",
              "      <th>887</th>\n",
              "      <td>0.5705</td>\n",
              "      <td>2.473</td>\n",
              "      <td>9.39</td>\n",
              "      <td>110.43</td>\n",
              "      <td>350.49</td>\n",
              "      <td>86.61</td>\n",
              "      <td>13.87</td>\n",
              "      <td>0.0815</td>\n",
              "      <td>0</td>\n",
              "    </tr>\n",
              "    <tr>\n",
              "      <th>1036</th>\n",
              "      <td>0.5331</td>\n",
              "      <td>2.666</td>\n",
              "      <td>26.68</td>\n",
              "      <td>215.52</td>\n",
              "      <td>132.43</td>\n",
              "      <td>140.65</td>\n",
              "      <td>9.22</td>\n",
              "      <td>0.3450</td>\n",
              "      <td>0</td>\n",
              "    </tr>\n",
              "    <tr>\n",
              "      <th>1221</th>\n",
              "      <td>0.4358</td>\n",
              "      <td>1.919</td>\n",
              "      <td>11.88</td>\n",
              "      <td>171.32</td>\n",
              "      <td>26.64</td>\n",
              "      <td>261.04</td>\n",
              "      <td>17.40</td>\n",
              "      <td>0.1060</td>\n",
              "      <td>0</td>\n",
              "    </tr>\n",
              "  </tbody>\n",
              "</table>\n",
              "</div>\n",
              "      <button class=\"colab-df-convert\" onclick=\"convertToInteractive('df-17ac6cff-68b5-4e1d-9ab8-f9ee2bc7dac3')\"\n",
              "              title=\"Convert this dataframe to an interactive table.\"\n",
              "              style=\"display:none;\">\n",
              "        \n",
              "  <svg xmlns=\"http://www.w3.org/2000/svg\" height=\"24px\"viewBox=\"0 0 24 24\"\n",
              "       width=\"24px\">\n",
              "    <path d=\"M0 0h24v24H0V0z\" fill=\"none\"/>\n",
              "    <path d=\"M18.56 5.44l.94 2.06.94-2.06 2.06-.94-2.06-.94-.94-2.06-.94 2.06-2.06.94zm-11 1L8.5 8.5l.94-2.06 2.06-.94-2.06-.94L8.5 2.5l-.94 2.06-2.06.94zm10 10l.94 2.06.94-2.06 2.06-.94-2.06-.94-.94-2.06-.94 2.06-2.06.94z\"/><path d=\"M17.41 7.96l-1.37-1.37c-.4-.4-.92-.59-1.43-.59-.52 0-1.04.2-1.43.59L10.3 9.45l-7.72 7.72c-.78.78-.78 2.05 0 2.83L4 21.41c.39.39.9.59 1.41.59.51 0 1.02-.2 1.41-.59l7.78-7.78 2.81-2.81c.8-.78.8-2.07 0-2.86zM5.41 20L4 18.59l7.72-7.72 1.47 1.35L5.41 20z\"/>\n",
              "  </svg>\n",
              "      </button>\n",
              "      \n",
              "  <style>\n",
              "    .colab-df-container {\n",
              "      display:flex;\n",
              "      flex-wrap:wrap;\n",
              "      gap: 12px;\n",
              "    }\n",
              "\n",
              "    .colab-df-convert {\n",
              "      background-color: #E8F0FE;\n",
              "      border: none;\n",
              "      border-radius: 50%;\n",
              "      cursor: pointer;\n",
              "      display: none;\n",
              "      fill: #1967D2;\n",
              "      height: 32px;\n",
              "      padding: 0 0 0 0;\n",
              "      width: 32px;\n",
              "    }\n",
              "\n",
              "    .colab-df-convert:hover {\n",
              "      background-color: #E2EBFA;\n",
              "      box-shadow: 0px 1px 2px rgba(60, 64, 67, 0.3), 0px 1px 3px 1px rgba(60, 64, 67, 0.15);\n",
              "      fill: #174EA6;\n",
              "    }\n",
              "\n",
              "    [theme=dark] .colab-df-convert {\n",
              "      background-color: #3B4455;\n",
              "      fill: #D2E3FC;\n",
              "    }\n",
              "\n",
              "    [theme=dark] .colab-df-convert:hover {\n",
              "      background-color: #434B5C;\n",
              "      box-shadow: 0px 1px 3px 1px rgba(0, 0, 0, 0.15);\n",
              "      filter: drop-shadow(0px 1px 2px rgba(0, 0, 0, 0.3));\n",
              "      fill: #FFFFFF;\n",
              "    }\n",
              "  </style>\n",
              "\n",
              "      <script>\n",
              "        const buttonEl =\n",
              "          document.querySelector('#df-17ac6cff-68b5-4e1d-9ab8-f9ee2bc7dac3 button.colab-df-convert');\n",
              "        buttonEl.style.display =\n",
              "          google.colab.kernel.accessAllowed ? 'block' : 'none';\n",
              "\n",
              "        async function convertToInteractive(key) {\n",
              "          const element = document.querySelector('#df-17ac6cff-68b5-4e1d-9ab8-f9ee2bc7dac3');\n",
              "          const dataTable =\n",
              "            await google.colab.kernel.invokeFunction('convertToInteractive',\n",
              "                                                     [key], {});\n",
              "          if (!dataTable) return;\n",
              "\n",
              "          const docLinkHtml = 'Like what you see? Visit the ' +\n",
              "            '<a target=\"_blank\" href=https://colab.research.google.com/notebooks/data_table.ipynb>data table notebook</a>'\n",
              "            + ' to learn more about interactive tables.';\n",
              "          element.innerHTML = '';\n",
              "          dataTable['output_type'] = 'display_data';\n",
              "          await google.colab.output.renderOutput(dataTable, element);\n",
              "          const docLink = document.createElement('div');\n",
              "          docLink.innerHTML = docLinkHtml;\n",
              "          element.appendChild(docLink);\n",
              "        }\n",
              "      </script>\n",
              "    </div>\n",
              "  </div>\n",
              "  "
            ]
          },
          "metadata": {},
          "execution_count": 3
        }
      ]
    },
    {
      "cell_type": "code",
      "source": [
        "# prep data\n",
        "X = sbdb_df.iloc[:, :6]\n",
        "y = sbdb_df.iloc[:, 7]\n",
        "X_train, X_test, y_train, y_test = train_test_split(X, y, test_size=0.2, random_state=42)\n",
        "\n",
        "# scale\n",
        "scaler = StandardScaler()\n",
        "scaler.fit(X_train)\n",
        "X_train = scaler.transform(X_train)\n",
        "X_test = scaler.transform(X_test)\n",
        "\n",
        "# model architecture\n",
        "def build_moid_model():\n",
        "  # inputs\n",
        "  inputs = keras.Input(shape=(6,))\n",
        "\n",
        "  # block 1\n",
        "  l1 = keras.layers.Dense(32, activation='relu')(inputs)\n",
        "  l2 = keras.layers.Dense(32, activation='relu')(l1)\n",
        "  # l3 = keras.layers.Dense(128, activation='relu')(l2)\n",
        "\n",
        "  # outputs\n",
        "  outputs = keras.layers.Dense(1)(l2)\n",
        "  model = keras.models.Model(inputs=[inputs], outputs=[outputs])\n",
        "  return model\n",
        "\n",
        "moid_model = build_moid_model()\n",
        "\n",
        "learning_rate = 0.001\n",
        "optimizer = tf.keras.optimizers.Adam(learning_rate=learning_rate)\n",
        "moid_model.compile(optimizer=optimizer, \n",
        "                  loss=\"mse\",\n",
        "                  metrics=['mse'])\n",
        "\n",
        "earlystop = tf.keras.callbacks.EarlyStopping(\n",
        "    monitor=\"val_loss\",\n",
        "    min_delta=0.0,\n",
        "    patience=3,\n",
        "    verbose=0,\n",
        "    mode=\"auto\",\n",
        "    baseline=None,\n",
        "    restore_best_weights=True,\n",
        ")"
      ],
      "metadata": {
        "id": "k43lkkleOIiq"
      },
      "execution_count": 4,
      "outputs": []
    },
    {
      "cell_type": "code",
      "source": [
        "moid_history = moid_model.fit(X_train, y_train, validation_split=0.25, epochs=150, batch_size=128, shuffle=True, callbacks=[earlystop])\n",
        "plot_training_history(moid_history)"
      ],
      "metadata": {
        "colab": {
          "base_uri": "https://localhost:8080/",
          "height": 1000
        },
        "id": "bmS-x9lmPL5F",
        "outputId": "79c8ef25-0530-4ffa-8c35-41806cf3d4be"
      },
      "execution_count": 5,
      "outputs": [
        {
          "output_type": "stream",
          "name": "stdout",
          "text": [
            "Epoch 1/150\n",
            "136/136 [==============================] - 3s 8ms/step - loss: 0.0393 - mse: 0.0393 - val_loss: 0.0086 - val_mse: 0.0086\n",
            "Epoch 2/150\n",
            "136/136 [==============================] - 1s 9ms/step - loss: 0.0176 - mse: 0.0176 - val_loss: 0.0069 - val_mse: 0.0069\n",
            "Epoch 3/150\n",
            "136/136 [==============================] - 1s 5ms/step - loss: 0.0071 - mse: 0.0071 - val_loss: 0.0063 - val_mse: 0.0063\n",
            "Epoch 4/150\n",
            "136/136 [==============================] - 0s 3ms/step - loss: 0.0062 - mse: 0.0062 - val_loss: 0.0059 - val_mse: 0.0059\n",
            "Epoch 5/150\n",
            "136/136 [==============================] - 0s 2ms/step - loss: 0.0059 - mse: 0.0059 - val_loss: 0.0056 - val_mse: 0.0056\n",
            "Epoch 6/150\n",
            "136/136 [==============================] - 0s 2ms/step - loss: 0.0056 - mse: 0.0056 - val_loss: 0.0054 - val_mse: 0.0054\n",
            "Epoch 7/150\n",
            "136/136 [==============================] - 0s 2ms/step - loss: 0.0054 - mse: 0.0054 - val_loss: 0.0051 - val_mse: 0.0051\n",
            "Epoch 8/150\n",
            "136/136 [==============================] - 0s 3ms/step - loss: 0.0053 - mse: 0.0053 - val_loss: 0.0052 - val_mse: 0.0052\n",
            "Epoch 9/150\n",
            "136/136 [==============================] - 0s 3ms/step - loss: 0.0054 - mse: 0.0054 - val_loss: 0.0048 - val_mse: 0.0048\n",
            "Epoch 10/150\n",
            "136/136 [==============================] - 0s 2ms/step - loss: 0.0056 - mse: 0.0056 - val_loss: 0.0044 - val_mse: 0.0044\n",
            "Epoch 11/150\n",
            "136/136 [==============================] - 0s 2ms/step - loss: 0.0054 - mse: 0.0054 - val_loss: 0.0042 - val_mse: 0.0042\n",
            "Epoch 12/150\n",
            "136/136 [==============================] - 0s 2ms/step - loss: 0.0104 - mse: 0.0104 - val_loss: 0.0042 - val_mse: 0.0042\n",
            "Epoch 13/150\n",
            "136/136 [==============================] - 0s 2ms/step - loss: 0.0124 - mse: 0.0124 - val_loss: 0.0036 - val_mse: 0.0036\n",
            "Epoch 14/150\n",
            "136/136 [==============================] - 0s 2ms/step - loss: 0.0070 - mse: 0.0070 - val_loss: 0.0035 - val_mse: 0.0035\n",
            "Epoch 15/150\n",
            "136/136 [==============================] - 0s 2ms/step - loss: 0.0043 - mse: 0.0043 - val_loss: 0.0033 - val_mse: 0.0033\n",
            "Epoch 16/150\n",
            "136/136 [==============================] - 0s 2ms/step - loss: 0.0034 - mse: 0.0034 - val_loss: 0.0034 - val_mse: 0.0034\n",
            "Epoch 17/150\n",
            "136/136 [==============================] - 0s 2ms/step - loss: 0.0032 - mse: 0.0032 - val_loss: 0.0032 - val_mse: 0.0032\n",
            "Epoch 18/150\n",
            "136/136 [==============================] - 0s 2ms/step - loss: 0.0031 - mse: 0.0031 - val_loss: 0.0031 - val_mse: 0.0031\n",
            "Epoch 19/150\n",
            "136/136 [==============================] - 0s 2ms/step - loss: 0.0030 - mse: 0.0030 - val_loss: 0.0030 - val_mse: 0.0030\n",
            "Epoch 20/150\n",
            "136/136 [==============================] - 0s 2ms/step - loss: 0.0029 - mse: 0.0029 - val_loss: 0.0030 - val_mse: 0.0030\n",
            "Epoch 21/150\n",
            "136/136 [==============================] - 0s 2ms/step - loss: 0.0029 - mse: 0.0029 - val_loss: 0.0031 - val_mse: 0.0031\n",
            "Epoch 22/150\n",
            "136/136 [==============================] - 0s 2ms/step - loss: 0.0028 - mse: 0.0028 - val_loss: 0.0028 - val_mse: 0.0028\n",
            "Epoch 23/150\n",
            "136/136 [==============================] - 0s 2ms/step - loss: 0.0027 - mse: 0.0027 - val_loss: 0.0027 - val_mse: 0.0027\n",
            "Epoch 24/150\n",
            "136/136 [==============================] - 0s 2ms/step - loss: 0.0027 - mse: 0.0027 - val_loss: 0.0027 - val_mse: 0.0027\n",
            "Epoch 25/150\n",
            "136/136 [==============================] - 0s 3ms/step - loss: 0.0028 - mse: 0.0028 - val_loss: 0.0027 - val_mse: 0.0027\n",
            "Epoch 26/150\n",
            "136/136 [==============================] - 0s 2ms/step - loss: 0.0031 - mse: 0.0031 - val_loss: 0.0026 - val_mse: 0.0026\n",
            "Epoch 27/150\n",
            "136/136 [==============================] - 0s 2ms/step - loss: 0.0043 - mse: 0.0043 - val_loss: 0.0026 - val_mse: 0.0026\n",
            "Epoch 28/150\n",
            "136/136 [==============================] - 0s 2ms/step - loss: 0.0073 - mse: 0.0073 - val_loss: 0.0026 - val_mse: 0.0026\n",
            "Epoch 29/150\n",
            "136/136 [==============================] - 0s 2ms/step - loss: 0.0078 - mse: 0.0078 - val_loss: 0.0026 - val_mse: 0.0026\n",
            "Epoch 30/150\n",
            "136/136 [==============================] - 0s 2ms/step - loss: 0.0050 - mse: 0.0050 - val_loss: 0.0027 - val_mse: 0.0027\n",
            "Epoch 31/150\n",
            "136/136 [==============================] - 0s 3ms/step - loss: 0.0036 - mse: 0.0036 - val_loss: 0.0025 - val_mse: 0.0025\n",
            "Epoch 32/150\n",
            "136/136 [==============================] - 0s 2ms/step - loss: 0.0030 - mse: 0.0030 - val_loss: 0.0025 - val_mse: 0.0025\n",
            "Epoch 33/150\n",
            "136/136 [==============================] - 0s 3ms/step - loss: 0.0025 - mse: 0.0025 - val_loss: 0.0023 - val_mse: 0.0023\n",
            "Epoch 34/150\n",
            "136/136 [==============================] - 1s 5ms/step - loss: 0.0023 - mse: 0.0023 - val_loss: 0.0023 - val_mse: 0.0023\n",
            "Epoch 35/150\n",
            "136/136 [==============================] - 1s 5ms/step - loss: 0.0023 - mse: 0.0023 - val_loss: 0.0023 - val_mse: 0.0023\n",
            "Epoch 36/150\n",
            "136/136 [==============================] - 1s 6ms/step - loss: 0.0022 - mse: 0.0022 - val_loss: 0.0022 - val_mse: 0.0022\n",
            "Epoch 37/150\n",
            "136/136 [==============================] - 1s 5ms/step - loss: 0.0021 - mse: 0.0021 - val_loss: 0.0022 - val_mse: 0.0022\n",
            "Epoch 38/150\n",
            "136/136 [==============================] - 1s 6ms/step - loss: 0.0022 - mse: 0.0022 - val_loss: 0.0021 - val_mse: 0.0021\n",
            "Epoch 39/150\n",
            "136/136 [==============================] - 1s 6ms/step - loss: 0.0022 - mse: 0.0022 - val_loss: 0.0021 - val_mse: 0.0021\n",
            "Epoch 40/150\n",
            "136/136 [==============================] - 1s 6ms/step - loss: 0.0022 - mse: 0.0022 - val_loss: 0.0020 - val_mse: 0.0020\n",
            "Epoch 41/150\n",
            "136/136 [==============================] - 1s 5ms/step - loss: 0.0025 - mse: 0.0025 - val_loss: 0.0020 - val_mse: 0.0020\n",
            "Epoch 42/150\n",
            "136/136 [==============================] - 1s 4ms/step - loss: 0.0030 - mse: 0.0030 - val_loss: 0.0020 - val_mse: 0.0020\n",
            "Epoch 43/150\n",
            "136/136 [==============================] - 1s 4ms/step - loss: 0.0040 - mse: 0.0040 - val_loss: 0.0021 - val_mse: 0.0021\n",
            "Epoch 44/150\n",
            "136/136 [==============================] - 1s 5ms/step - loss: 0.0041 - mse: 0.0041 - val_loss: 0.0024 - val_mse: 0.0024\n"
          ]
        },
        {
          "output_type": "display_data",
          "data": {
            "text/plain": [
              "<Figure size 432x288 with 1 Axes>"
            ],
            "image/png": "[encoded data removed]"
          },
          "metadata": {
            "needs_background": "light"
          }
        }
      ]
    },
    {
      "cell_type": "code",
      "source": [
        "# evaluation\n",
        "moid_pred = moid_model.predict(X_test)\n",
        "mean_squared_error(y_test, moid_pred, squared=False)"
      ],
      "metadata": {
        "colab": {
          "base_uri": "https://localhost:8080/"
        },
        "id": "yIONDqFfPd28",
        "outputId": "6128bf92-6c69-41df-d70f-f50a50ac2196"
      },
      "execution_count": 6,
      "outputs": [
        {
          "output_type": "execute_result",
          "data": {
            "text/plain": [
              "0.048145899874469184"
            ]
          },
          "metadata": {},
          "execution_count": 6
        }
      ]
    },
    {
      "cell_type": "code",
      "source": [
        "rand_id = np.random.randint(moid_pred.shape[0])\n",
        "print(f\"Predict: {moid_pred[rand_id]}, True: {y_test[rand_id]}\")"
      ],
      "metadata": {
        "colab": {
          "base_uri": "https://localhost:8080/"
        },
        "id": "P8qp_Gltj3d4",
        "outputId": "a258328b-a673-4d8e-ef78-3fe51cc1546f"
      },
      "execution_count": 19,
      "outputs": [
        {
          "output_type": "stream",
          "name": "stdout",
          "text": [
            "Predict: [0.01640724], True: 0.0183\n"
          ]
        }
      ]
    }
  ]
}