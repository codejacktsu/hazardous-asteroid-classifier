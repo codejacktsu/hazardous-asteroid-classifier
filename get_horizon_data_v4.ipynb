{
  "cells": [
    {
      "cell_type": "code",
      "execution_count": 1,
      "metadata": {
        "colab": {
          "base_uri": "https://localhost:8080/"
        },
        "id": "DisdM4xIJCH6",
        "outputId": "8c1160af-0b55-4f78-8e11-9e8a88b44dc7"
      },
      "outputs": [
        {
          "output_type": "stream",
          "name": "stdout",
          "text": [
            "Collecting wget\n",
            "  Downloading wget-3.2.zip (10 kB)\n",
            "Building wheels for collected packages: wget\n",
            "  Building wheel for wget (setup.py) ... \u001b[?25l\u001b[?25hdone\n",
            "  Created wheel for wget: filename=wget-3.2-py3-none-any.whl size=9675 sha256=f336b9d397c2dab2aa22c295088e74a767fc07e042ee4d41ec7c21d084efc623\n",
            "  Stored in directory: /root/.cache/pip/wheels/a1/b6/7c/0e63e34eb06634181c63adacca38b79ff8f35c37e3c13e3c02\n",
            "Successfully built wget\n",
            "Installing collected packages: wget\n",
            "Successfully installed wget-3.2\n",
            "Collecting astroquery\n",
            "  Downloading astroquery-0.4.6-py3-none-any.whl (4.5 MB)\n",
            "\u001b[K     |████████████████████████████████| 4.5 MB 5.0 MB/s \n",
            "\u001b[?25hRequirement already satisfied: requests>=2.4.3 in /usr/local/lib/python3.7/dist-packages (from astroquery) (2.23.0)\n",
            "Collecting keyring>=4.0\n",
            "  Downloading keyring-23.5.0-py3-none-any.whl (33 kB)\n",
            "Requirement already satisfied: html5lib>=0.999 in /usr/local/lib/python3.7/dist-packages (from astroquery) (1.0.1)\n",
            "Requirement already satisfied: numpy>=1.16 in /usr/local/lib/python3.7/dist-packages (from astroquery) (1.21.6)\n",
            "Requirement already satisfied: astropy>=4.0 in /usr/local/lib/python3.7/dist-packages (from astroquery) (4.3.1)\n",
            "Collecting pyvo>=1.1\n",
            "  Downloading pyvo-1.2.1-py3-none-any.whl (832 kB)\n",
            "\u001b[K     |████████████████████████████████| 832 kB 44.6 MB/s \n",
            "\u001b[?25hRequirement already satisfied: beautifulsoup4>=4.3.2 in /usr/local/lib/python3.7/dist-packages (from astroquery) (4.6.3)\n",
            "Requirement already satisfied: pyerfa>=1.7.3 in /usr/local/lib/python3.7/dist-packages (from astropy>=4.0->astroquery) (2.0.0.1)\n",
            "Requirement already satisfied: importlib-metadata in /usr/local/lib/python3.7/dist-packages (from astropy>=4.0->astroquery) (4.11.3)\n",
            "Requirement already satisfied: six>=1.9 in /usr/local/lib/python3.7/dist-packages (from html5lib>=0.999->astroquery) (1.15.0)\n",
            "Requirement already satisfied: webencodings in /usr/local/lib/python3.7/dist-packages (from html5lib>=0.999->astroquery) (0.5.1)\n",
            "Collecting jeepney>=0.4.2\n",
            "  Downloading jeepney-0.8.0-py3-none-any.whl (48 kB)\n",
            "\u001b[K     |████████████████████████████████| 48 kB 3.8 MB/s \n",
            "\u001b[?25hCollecting SecretStorage>=3.2\n",
            "  Downloading SecretStorage-3.3.2-py3-none-any.whl (15 kB)\n",
            "Requirement already satisfied: zipp>=0.5 in /usr/local/lib/python3.7/dist-packages (from importlib-metadata->astropy>=4.0->astroquery) (3.8.0)\n",
            "Requirement already satisfied: typing-extensions>=3.6.4 in /usr/local/lib/python3.7/dist-packages (from importlib-metadata->astropy>=4.0->astroquery) (4.2.0)\n",
            "Requirement already satisfied: urllib3!=1.25.0,!=1.25.1,<1.26,>=1.21.1 in /usr/local/lib/python3.7/dist-packages (from requests>=2.4.3->astroquery) (1.24.3)\n",
            "Requirement already satisfied: idna<3,>=2.5 in /usr/local/lib/python3.7/dist-packages (from requests>=2.4.3->astroquery) (2.10)\n",
            "Requirement already satisfied: certifi>=2017.4.17 in /usr/local/lib/python3.7/dist-packages (from requests>=2.4.3->astroquery) (2021.10.8)\n",
            "Requirement already satisfied: chardet<4,>=3.0.2 in /usr/local/lib/python3.7/dist-packages (from requests>=2.4.3->astroquery) (3.0.4)\n",
            "Collecting cryptography>=2.0\n",
            "  Downloading cryptography-37.0.2-cp36-abi3-manylinux_2_24_x86_64.whl (4.0 MB)\n",
            "\u001b[K     |████████████████████████████████| 4.0 MB 9.0 MB/s \n",
            "\u001b[?25hRequirement already satisfied: cffi>=1.12 in /usr/local/lib/python3.7/dist-packages (from cryptography>=2.0->SecretStorage>=3.2->keyring>=4.0->astroquery) (1.15.0)\n",
            "Requirement already satisfied: pycparser in /usr/local/lib/python3.7/dist-packages (from cffi>=1.12->cryptography>=2.0->SecretStorage>=3.2->keyring>=4.0->astroquery) (2.21)\n",
            "Installing collected packages: jeepney, cryptography, SecretStorage, pyvo, keyring, astroquery\n",
            "Successfully installed SecretStorage-3.3.2 astroquery-0.4.6 cryptography-37.0.2 jeepney-0.8.0 keyring-23.5.0 pyvo-1.2.1\n"
          ]
        }
      ],
      "source": [
        "!pip install astroquery"
      ]
    },
    {
      "cell_type": "code",
      "execution_count": 25,
      "metadata": {
        "id": "hzZTQgBzJICx"
      },
      "outputs": [],
      "source": [
        "import re\n",
        "import pandas as pd\n",
        "import numpy as np\n",
        "from sklearn.model_selection import train_test_split\n",
        "from datetime import datetime\n",
        "from astroquery.jplhorizons import Horizons"
      ]
    },
    {
      "cell_type": "code",
      "execution_count": 68,
      "metadata": {
        "id": "DxFCY9uRJOqu"
      },
      "outputs": [],
      "source": [
        "# Utility\n",
        "\n",
        "def convert_name(name) -> str:\n",
        "  \"\"\"\n",
        "  change jpl file asteroids names to legal horizon searchable name\n",
        "  ie. \"2022HM4\" -> \"2022 HM4\"\n",
        "  Thanks @ Jon\n",
        "  \"\"\"\n",
        "  split = re.split('([A-Z])', name)\n",
        "  post = \"\".join(split[1:])\n",
        "  return \" \".join([split[0], post]).strip()\n",
        "\n",
        "def random_epochs(steps=1.0) -> list:\n",
        "  \"\"\"\n",
        "  generate list of 4 julian dates in steps from 2020.1.1 ~ 2022.5.4\n",
        "  \"\"\"\n",
        "  jd_20200101 = 2458849.5000000\n",
        "  jd_22220504 = 2459703.4999884\n",
        "  start = np.random.uniform(jd_20200101, jd_22220504)\n",
        "  epochs = np.arange(start, start+steps*4, steps)\n",
        "  return epochs\n",
        "\n",
        "def get_random_horizon(name_index):\n",
        "  \"\"\"\n",
        "  using astroquery horizon to get ephemerides + orbital elements with random object\n",
        "  \"\"\"\n",
        "  epochs = random_epochs()\n",
        "  obj = convert_name(np.random.choice(name_index))\n",
        "  eph = Horizons(id=obj, location='T05', epochs=epochs, id_type='smallbody').ephemerides()\n",
        "  orb = Horizons(id=obj, location='10', epochs=epochs, id_type='smallbody').elements()\n",
        "  eph = eph.to_pandas().to_numpy()\n",
        "  orb = orb['e', 'incl', 'a', 'H'].to_pandas().iloc[:1].to_numpy().flatten()\n",
        "  return eph, orb\n",
        "\n",
        "def create_dataset(N, name_index):\n",
        "  Xs = []\n",
        "  ys = []\n",
        "  for n in range(N):\n",
        "    X_, y_ = get_random_horizon(name_index)\n",
        "    Xs.append(X_)\n",
        "    ys.append(y_)\n",
        "  return np.stack(Xs), np.stack(ys)"
      ]
    },
    {
      "cell_type": "code",
      "execution_count": 69,
      "metadata": {
        "colab": {
          "base_uri": "https://localhost:8080/",
          "height": 255
        },
        "id": "j_eVOJL2JYib",
        "outputId": "13a62368-be52-432c-e47e-19ca6a0bdd1c"
      },
      "outputs": [
        {
          "output_type": "stream",
          "name": "stdout",
          "text": [
            "(1099143, 9)\n"
          ]
        },
        {
          "output_type": "execute_result",
          "data": {
            "text/plain": [
              "           e      a      i      om       w      ma     H  moid  pha\n",
              "pdes                                                               \n",
              "1     0.0785  2.766  10.59   80.27   73.64  291.38  3.31  1.58    0\n",
              "2     0.2300  2.771  34.93  172.92  310.70  272.48  4.11  1.23    0\n",
              "3     0.2569  2.669  12.99  169.85  247.94  261.30  5.28  1.03    0\n",
              "4     0.0882  2.361   7.14  103.80  151.09    7.03  3.40  1.14    0\n",
              "5     0.1901  2.575   5.37  141.57  358.74  160.98  6.98  1.10    0"
            ],
            "text/html": [
              "\n",
              "  <div id=\"df-e997b972-ea04-4154-a349-53daead55a09\">\n",
              "    <div class=\"colab-df-container\">\n",
              "      <div>\n",
              "<style scoped>\n",
              "    .dataframe tbody tr th:only-of-type {\n",
              "        vertical-align: middle;\n",
              "    }\n",
              "\n",
              "    .dataframe tbody tr th {\n",
              "        vertical-align: top;\n",
              "    }\n",
              "\n",
              "    .dataframe thead th {\n",
              "        text-align: right;\n",
              "    }\n",
              "</style>\n",
              "<table border=\"1\" class=\"dataframe\">\n",
              "  <thead>\n",
              "    <tr style=\"text-align: right;\">\n",
              "      <th></th>\n",
              "      <th>e</th>\n",
              "      <th>a</th>\n",
              "      <th>i</th>\n",
              "      <th>om</th>\n",
              "      <th>w</th>\n",
              "      <th>ma</th>\n",
              "      <th>H</th>\n",
              "      <th>moid</th>\n",
              "      <th>pha</th>\n",
              "    </tr>\n",
              "    <tr>\n",
              "      <th>pdes</th>\n",
              "      <th></th>\n",
              "      <th></th>\n",
              "      <th></th>\n",
              "      <th></th>\n",
              "      <th></th>\n",
              "      <th></th>\n",
              "      <th></th>\n",
              "      <th></th>\n",
              "      <th></th>\n",
              "    </tr>\n",
              "  </thead>\n",
              "  <tbody>\n",
              "    <tr>\n",
              "      <th>1</th>\n",
              "      <td>0.0785</td>\n",
              "      <td>2.766</td>\n",
              "      <td>10.59</td>\n",
              "      <td>80.27</td>\n",
              "      <td>73.64</td>\n",
              "      <td>291.38</td>\n",
              "      <td>3.31</td>\n",
              "      <td>1.58</td>\n",
              "      <td>0</td>\n",
              "    </tr>\n",
              "    <tr>\n",
              "      <th>2</th>\n",
              "      <td>0.2300</td>\n",
              "      <td>2.771</td>\n",
              "      <td>34.93</td>\n",
              "      <td>172.92</td>\n",
              "      <td>310.70</td>\n",
              "      <td>272.48</td>\n",
              "      <td>4.11</td>\n",
              "      <td>1.23</td>\n",
              "      <td>0</td>\n",
              "    </tr>\n",
              "    <tr>\n",
              "      <th>3</th>\n",
              "      <td>0.2569</td>\n",
              "      <td>2.669</td>\n",
              "      <td>12.99</td>\n",
              "      <td>169.85</td>\n",
              "      <td>247.94</td>\n",
              "      <td>261.30</td>\n",
              "      <td>5.28</td>\n",
              "      <td>1.03</td>\n",
              "      <td>0</td>\n",
              "    </tr>\n",
              "    <tr>\n",
              "      <th>4</th>\n",
              "      <td>0.0882</td>\n",
              "      <td>2.361</td>\n",
              "      <td>7.14</td>\n",
              "      <td>103.80</td>\n",
              "      <td>151.09</td>\n",
              "      <td>7.03</td>\n",
              "      <td>3.40</td>\n",
              "      <td>1.14</td>\n",
              "      <td>0</td>\n",
              "    </tr>\n",
              "    <tr>\n",
              "      <th>5</th>\n",
              "      <td>0.1901</td>\n",
              "      <td>2.575</td>\n",
              "      <td>5.37</td>\n",
              "      <td>141.57</td>\n",
              "      <td>358.74</td>\n",
              "      <td>160.98</td>\n",
              "      <td>6.98</td>\n",
              "      <td>1.10</td>\n",
              "      <td>0</td>\n",
              "    </tr>\n",
              "  </tbody>\n",
              "</table>\n",
              "</div>\n",
              "      <button class=\"colab-df-convert\" onclick=\"convertToInteractive('df-e997b972-ea04-4154-a349-53daead55a09')\"\n",
              "              title=\"Convert this dataframe to an interactive table.\"\n",
              "              style=\"display:none;\">\n",
              "        \n",
              "  <svg xmlns=\"http://www.w3.org/2000/svg\" height=\"24px\"viewBox=\"0 0 24 24\"\n",
              "       width=\"24px\">\n",
              "    <path d=\"M0 0h24v24H0V0z\" fill=\"none\"/>\n",
              "    <path d=\"M18.56 5.44l.94 2.06.94-2.06 2.06-.94-2.06-.94-.94-2.06-.94 2.06-2.06.94zm-11 1L8.5 8.5l.94-2.06 2.06-.94-2.06-.94L8.5 2.5l-.94 2.06-2.06.94zm10 10l.94 2.06.94-2.06 2.06-.94-2.06-.94-.94-2.06-.94 2.06-2.06.94z\"/><path d=\"M17.41 7.96l-1.37-1.37c-.4-.4-.92-.59-1.43-.59-.52 0-1.04.2-1.43.59L10.3 9.45l-7.72 7.72c-.78.78-.78 2.05 0 2.83L4 21.41c.39.39.9.59 1.41.59.51 0 1.02-.2 1.41-.59l7.78-7.78 2.81-2.81c.8-.78.8-2.07 0-2.86zM5.41 20L4 18.59l7.72-7.72 1.47 1.35L5.41 20z\"/>\n",
              "  </svg>\n",
              "      </button>\n",
              "      \n",
              "  <style>\n",
              "    .colab-df-container {\n",
              "      display:flex;\n",
              "      flex-wrap:wrap;\n",
              "      gap: 12px;\n",
              "    }\n",
              "\n",
              "    .colab-df-convert {\n",
              "      background-color: #E8F0FE;\n",
              "      border: none;\n",
              "      border-radius: 50%;\n",
              "      cursor: pointer;\n",
              "      display: none;\n",
              "      fill: #1967D2;\n",
              "      height: 32px;\n",
              "      padding: 0 0 0 0;\n",
              "      width: 32px;\n",
              "    }\n",
              "\n",
              "    .colab-df-convert:hover {\n",
              "      background-color: #E2EBFA;\n",
              "      box-shadow: 0px 1px 2px rgba(60, 64, 67, 0.3), 0px 1px 3px 1px rgba(60, 64, 67, 0.15);\n",
              "      fill: #174EA6;\n",
              "    }\n",
              "\n",
              "    [theme=dark] .colab-df-convert {\n",
              "      background-color: #3B4455;\n",
              "      fill: #D2E3FC;\n",
              "    }\n",
              "\n",
              "    [theme=dark] .colab-df-convert:hover {\n",
              "      background-color: #434B5C;\n",
              "      box-shadow: 0px 1px 3px 1px rgba(0, 0, 0, 0.15);\n",
              "      filter: drop-shadow(0px 1px 2px rgba(0, 0, 0, 0.3));\n",
              "      fill: #FFFFFF;\n",
              "    }\n",
              "  </style>\n",
              "\n",
              "      <script>\n",
              "        const buttonEl =\n",
              "          document.querySelector('#df-e997b972-ea04-4154-a349-53daead55a09 button.colab-df-convert');\n",
              "        buttonEl.style.display =\n",
              "          google.colab.kernel.accessAllowed ? 'block' : 'none';\n",
              "\n",
              "        async function convertToInteractive(key) {\n",
              "          const element = document.querySelector('#df-e997b972-ea04-4154-a349-53daead55a09');\n",
              "          const dataTable =\n",
              "            await google.colab.kernel.invokeFunction('convertToInteractive',\n",
              "                                                     [key], {});\n",
              "          if (!dataTable) return;\n",
              "\n",
              "          const docLinkHtml = 'Like what you see? Visit the ' +\n",
              "            '<a target=\"_blank\" href=https://colab.research.google.com/notebooks/data_table.ipynb>data table notebook</a>'\n",
              "            + ' to learn more about interactive tables.';\n",
              "          element.innerHTML = '';\n",
              "          dataTable['output_type'] = 'display_data';\n",
              "          await google.colab.output.renderOutput(dataTable, element);\n",
              "          const docLink = document.createElement('div');\n",
              "          docLink.innerHTML = docLinkHtml;\n",
              "          element.appendChild(docLink);\n",
              "        }\n",
              "      </script>\n",
              "    </div>\n",
              "  </div>\n",
              "  "
            ]
          },
          "metadata": {},
          "execution_count": 69
        }
      ],
      "source": [
        "# load small body database\n",
        "sbdb_df = pd.read_csv(\"sbdb_query_results.csv\", index_col='pdes', low_memory=False)\n",
        "sbdb_df.index = sbdb_df.index.map(lambda x: str(x).replace(\" \", \"\"))\n",
        "sbdb_df['pha'] = sbdb_df['pha'].apply(lambda x: 1 if x == \"Y\" else 0)\n",
        "sbdb_df.dropna(inplace=True)\n",
        "print(sbdb_df.shape)\n",
        "sbdb_df.head()"
      ]
    },
    {
      "cell_type": "code",
      "source": [
        "# data split\n",
        "train_index, test_index = train_test_split(sbdb_df.index, test_size=0.1, random_state=109)\n",
        "print(train_index.shape)\n",
        "print(test_index.shape)"
      ],
      "metadata": {
        "colab": {
          "base_uri": "https://localhost:8080/"
        },
        "id": "bCTTlxjJVnby",
        "outputId": "0a6fdc2f-90cd-42ff-d56d-a751b55d0e46"
      },
      "execution_count": 70,
      "outputs": [
        {
          "output_type": "stream",
          "name": "stdout",
          "text": [
            "(989228,)\n",
            "(109915,)\n"
          ]
        }
      ]
    },
    {
      "cell_type": "code",
      "execution_count": null,
      "metadata": {
        "id": "HUpIz5uEJacD"
      },
      "outputs": [],
      "source": [
        "# # generate 1 observation\n",
        "# X, y = get_random_horizon(train_index)\n",
        "\n",
        "# generate dataset\n",
        "for i in range(40):\n",
        "  X_train, y_train = create_dataset(1000, train_index)\n",
        "  np.save(f'X_train_{i}.npy', X_train)\n",
        "  np.save(f'y_train_{i}.npy', y_train)\n",
        "\n",
        "for i in range(2):\n",
        "  X_test, y_test = create_dataset(1000, test_index)\n",
        "  np.save(f'X_test_{i}.npy', X_train)\n",
        "  np.save(f'y_test_{i}.npy', y_train)"
      ]
    },
    {
      "cell_type": "code",
      "source": [
        "import glob\n",
        "\n",
        "id = 0\n",
        "\n",
        "npy_train_files = sorted(glob.glob(f'X_train*.npy'))\n",
        "arrs = [np.load(f\"{fname}\") for fname in npy_train_files]\n",
        "train_arrs = np.vstack(arrs)\n",
        "np.save(f\"X_train_full_{id}_jack.npy\", train_arrs)\n",
        "files.download(f\"X_train_full_{id}_jack.npy\")\n",
        "\n",
        "npy_train_files = sorted(glob.glob(f'y_train*.npy'))\n",
        "arrs = [np.load(f\"{fname}\") for fname in npy_train_files]\n",
        "train_arrs = np.vstack(arrs)\n",
        "np.save(f\"y_train_{id}_jack.npy\", train_arrs)\n",
        "files.download(f\"y_train_{id}_jack.npy\")"
      ],
      "metadata": {
        "colab": {
          "base_uri": "https://localhost:8080/",
          "height": 17
        },
        "id": "pCrz791o2ww9",
        "outputId": "68186b98-a42c-4362-a4ef-7eb47ce2ba48"
      },
      "execution_count": 67,
      "outputs": [
        {
          "output_type": "display_data",
          "data": {
            "text/plain": [
              "<IPython.core.display.Javascript object>"
            ],
            "application/javascript": [
              "\n",
              "    async function download(id, filename, size) {\n",
              "      if (!google.colab.kernel.accessAllowed) {\n",
              "        return;\n",
              "      }\n",
              "      const div = document.createElement('div');\n",
              "      const label = document.createElement('label');\n",
              "      label.textContent = `Downloading \"${filename}\": `;\n",
              "      div.appendChild(label);\n",
              "      const progress = document.createElement('progress');\n",
              "      progress.max = size;\n",
              "      div.appendChild(progress);\n",
              "      document.body.appendChild(div);\n",
              "\n",
              "      const buffers = [];\n",
              "      let downloaded = 0;\n",
              "\n",
              "      const channel = await google.colab.kernel.comms.open(id);\n",
              "      // Send a message to notify the kernel that we're ready.\n",
              "      channel.send({})\n",
              "\n",
              "      for await (const message of channel.messages) {\n",
              "        // Send a message to notify the kernel that we're ready.\n",
              "        channel.send({})\n",
              "        if (message.buffers) {\n",
              "          for (const buffer of message.buffers) {\n",
              "            buffers.push(buffer);\n",
              "            downloaded += buffer.byteLength;\n",
              "            progress.value = downloaded;\n",
              "          }\n",
              "        }\n",
              "      }\n",
              "      const blob = new Blob(buffers, {type: 'application/binary'});\n",
              "      const a = document.createElement('a');\n",
              "      a.href = window.URL.createObjectURL(blob);\n",
              "      a.download = filename;\n",
              "      div.appendChild(a);\n",
              "      a.click();\n",
              "      div.remove();\n",
              "    }\n",
              "  "
            ]
          },
          "metadata": {}
        },
        {
          "output_type": "display_data",
          "data": {
            "text/plain": [
              "<IPython.core.display.Javascript object>"
            ],
            "application/javascript": [
              "download(\"download_45ccd18e-0e9f-439a-b10a-3c2d16a712b7\", \"X_train_jack2.npy\", 1152128)"
            ]
          },
          "metadata": {}
        },
        {
          "output_type": "display_data",
          "data": {
            "text/plain": [
              "<IPython.core.display.Javascript object>"
            ],
            "application/javascript": [
              "\n",
              "    async function download(id, filename, size) {\n",
              "      if (!google.colab.kernel.accessAllowed) {\n",
              "        return;\n",
              "      }\n",
              "      const div = document.createElement('div');\n",
              "      const label = document.createElement('label');\n",
              "      label.textContent = `Downloading \"${filename}\": `;\n",
              "      div.appendChild(label);\n",
              "      const progress = document.createElement('progress');\n",
              "      progress.max = size;\n",
              "      div.appendChild(progress);\n",
              "      document.body.appendChild(div);\n",
              "\n",
              "      const buffers = [];\n",
              "      let downloaded = 0;\n",
              "\n",
              "      const channel = await google.colab.kernel.comms.open(id);\n",
              "      // Send a message to notify the kernel that we're ready.\n",
              "      channel.send({})\n",
              "\n",
              "      for await (const message of channel.messages) {\n",
              "        // Send a message to notify the kernel that we're ready.\n",
              "        channel.send({})\n",
              "        if (message.buffers) {\n",
              "          for (const buffer of message.buffers) {\n",
              "            buffers.push(buffer);\n",
              "            downloaded += buffer.byteLength;\n",
              "            progress.value = downloaded;\n",
              "          }\n",
              "        }\n",
              "      }\n",
              "      const blob = new Blob(buffers, {type: 'application/binary'});\n",
              "      const a = document.createElement('a');\n",
              "      a.href = window.URL.createObjectURL(blob);\n",
              "      a.download = filename;\n",
              "      div.appendChild(a);\n",
              "      a.click();\n",
              "      div.remove();\n",
              "    }\n",
              "  "
            ]
          },
          "metadata": {}
        },
        {
          "output_type": "display_data",
          "data": {
            "text/plain": [
              "<IPython.core.display.Javascript object>"
            ],
            "application/javascript": [
              "download(\"download_10c73809-a7cc-4d4e-9787-7bd92c6bcccf\", \"y_train_jack2.npy\", 192128)"
            ]
          },
          "metadata": {}
        }
      ]
    },
    {
      "cell_type": "code",
      "source": [
        "# save\n",
        "np.save('X_train.npy', X_train)\n",
        "np.save('y_train.npy', y_train)\n",
        "np.save('X_test.npy', X_test)\n",
        "np.save('y_test.npy', y_test)\n",
        "\n",
        "from google.colab import files\n",
        "\n",
        "# download dataset\n",
        "files.download('X_train.npy')\n",
        "files.download('y_train.npy')\n",
        "files.download('X_test.npy')\n",
        "files.download('y_test.npy')"
      ],
      "metadata": {
        "id": "W2mzMQjRfvpU"
      },
      "execution_count": null,
      "outputs": []
    },
    {
      "cell_type": "code",
      "source": [
        "# load \n",
        "test_arr = np.load('X_train_0.npy')\n",
        "print(test_arr.shape)\n",
        "test_arr"
      ],
      "metadata": {
        "colab": {
          "base_uri": "https://localhost:8080/"
        },
        "id": "UkyeKa66jXRl",
        "outputId": "c488a7d9-2c0a-4b7f-8d7f-4d454deb2431"
      },
      "execution_count": 22,
      "outputs": [
        {
          "output_type": "stream",
          "name": "stdout",
          "text": [
            "(2, 4, 6)\n"
          ]
        },
        {
          "output_type": "execute_result",
          "data": {
            "text/plain": [
              "array([[[ 1.55403050e+02,  8.91682000e+00,  2.46914600e+01,\n",
              "         -7.40771000e+00,  2.17880000e+01,  2.45955103e+06],\n",
              "        [ 1.55571120e+02,  8.86782000e+00,  2.39892600e+01,\n",
              "         -7.12562000e+00,  2.17750000e+01,  2.45955203e+06],\n",
              "        [ 1.55734490e+02,  8.82072000e+00,  2.32772500e+01,\n",
              "         -6.83765000e+00,  2.17620000e+01,  2.45955303e+06],\n",
              "        [ 1.55893080e+02,  8.77557000e+00,  2.25559100e+01,\n",
              "         -6.54398000e+00,  2.17490000e+01,  2.45955403e+06]],\n",
              "\n",
              "       [[ 2.78047210e+02, -1.28591300e+01,  1.58774100e+01,\n",
              "          8.95494300e+00,  2.34120000e+01,  2.45894731e+06],\n",
              "        [ 2.78156590e+02, -1.28004500e+01,  1.52226700e+01,\n",
              "          8.97170100e+00,  2.34000000e+01,  2.45894831e+06],\n",
              "        [ 2.78261410e+02, -1.27416700e+01,  1.45609000e+01,\n",
              "          8.98522000e+00,  2.33880000e+01,  2.45894931e+06],\n",
              "        [ 2.78361600e+02, -1.26828100e+01,  1.38918200e+01,\n",
              "          8.99542600e+00,  2.33760000e+01,  2.45895031e+06]]])"
            ]
          },
          "metadata": {},
          "execution_count": 22
        }
      ]
    }
  ],
  "metadata": {
    "colab": {
      "name": "get_horizon_data-Copy1.ipynb",
      "provenance": [],
      "collapsed_sections": []
    },
    "kernelspec": {
      "display_name": "Python 3 (ipykernel)",
      "language": "python",
      "name": "python3"
    },
    "language_info": {
      "codemirror_mode": {
        "name": "ipython",
        "version": 3
      },
      "file_extension": ".py",
      "mimetype": "text/x-python",
      "name": "python",
      "nbconvert_exporter": "python",
      "pygments_lexer": "ipython3",
      "version": "3.8.12"
    }
  },
  "nbformat": 4,
  "nbformat_minor": 0
}